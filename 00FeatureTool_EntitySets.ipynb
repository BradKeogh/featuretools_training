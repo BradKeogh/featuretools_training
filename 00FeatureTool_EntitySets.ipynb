{
 "cells": [
  {
   "cell_type": "markdown",
   "metadata": {},
   "source": [
    "# 00 Feature Tools and Entity Sets\n",
    "\n",
    "#### Intro\n",
    "- if you are completely new to the featuretool library, suggest you check out the documentation here: https://docs.featuretools.com/\n",
    "- these notebooks aim to introduce some of the possible uses of featuretools applied to patient hospital data \n",
    "- we demonstrate how to generate features using individual patient transactions\n",
    "- we work with a synthetic data set of hospital patient stays"
   ]
  },
  {
   "cell_type": "code",
   "execution_count": 1,
   "metadata": {},
   "outputs": [],
   "source": [
    "import pandas as pd\n",
    "import numpy as np\n",
    "import featuretools as ft"
   ]
  },
  {
   "cell_type": "markdown",
   "metadata": {},
   "source": [
    "#### Get synthetic patient dataset"
   ]
  },
  {
   "cell_type": "code",
   "execution_count": 2,
   "metadata": {},
   "outputs": [],
   "source": [
    "from create_data import make_attendances_dataframe"
   ]
  },
  {
   "cell_type": "code",
   "execution_count": 3,
   "metadata": {},
   "outputs": [],
   "source": [
    "df = make_attendances_dataframe(15)"
   ]
  },
  {
   "cell_type": "markdown",
   "metadata": {},
   "source": [
    "We see we have individial records for patients attendance in an ED. Including unique: atten_id. Also non-unique fields: pat_id, arrival time, departure_time, stay in department (minutes), gender of patient, boolean inducating whether patient arrived by ambluance or not."
   ]
  },
  {
   "cell_type": "code",
   "execution_count": 4,
   "metadata": {},
   "outputs": [
    {
     "data": {
      "text/html": [
       "<div>\n",
       "<style scoped>\n",
       "    .dataframe tbody tr th:only-of-type {\n",
       "        vertical-align: middle;\n",
       "    }\n",
       "\n",
       "    .dataframe tbody tr th {\n",
       "        vertical-align: top;\n",
       "    }\n",
       "\n",
       "    .dataframe thead th {\n",
       "        text-align: right;\n",
       "    }\n",
       "</style>\n",
       "<table border=\"1\" class=\"dataframe\">\n",
       "  <thead>\n",
       "    <tr style=\"text-align: right;\">\n",
       "      <th></th>\n",
       "      <th>atten_id</th>\n",
       "      <th>pat_id</th>\n",
       "      <th>arrival_datetime</th>\n",
       "      <th>time_in_department</th>\n",
       "      <th>ambulance_arrival</th>\n",
       "      <th>departure_datetime</th>\n",
       "      <th>gender</th>\n",
       "    </tr>\n",
       "  </thead>\n",
       "  <tbody>\n",
       "    <tr>\n",
       "      <th>0</th>\n",
       "      <td>1000</td>\n",
       "      <td>3814</td>\n",
       "      <td>2018-01-01 08:15:00</td>\n",
       "      <td>59</td>\n",
       "      <td>0</td>\n",
       "      <td>2018-01-01 09:14:00</td>\n",
       "      <td>0</td>\n",
       "    </tr>\n",
       "    <tr>\n",
       "      <th>1</th>\n",
       "      <td>1001</td>\n",
       "      <td>1847</td>\n",
       "      <td>2018-01-01 13:08:00</td>\n",
       "      <td>256</td>\n",
       "      <td>0</td>\n",
       "      <td>2018-01-01 17:24:00</td>\n",
       "      <td>1</td>\n",
       "    </tr>\n",
       "    <tr>\n",
       "      <th>2</th>\n",
       "      <td>1002</td>\n",
       "      <td>7573</td>\n",
       "      <td>2018-01-01 22:43:00</td>\n",
       "      <td>324</td>\n",
       "      <td>1</td>\n",
       "      <td>2018-01-02 04:07:00</td>\n",
       "      <td>1</td>\n",
       "    </tr>\n",
       "    <tr>\n",
       "      <th>3</th>\n",
       "      <td>1003</td>\n",
       "      <td>8807</td>\n",
       "      <td>2018-01-01 18:11:00</td>\n",
       "      <td>326</td>\n",
       "      <td>1</td>\n",
       "      <td>2018-01-01 23:37:00</td>\n",
       "      <td>1</td>\n",
       "    </tr>\n",
       "    <tr>\n",
       "      <th>4</th>\n",
       "      <td>1004</td>\n",
       "      <td>13380</td>\n",
       "      <td>2018-01-01 08:07:00</td>\n",
       "      <td>89</td>\n",
       "      <td>1</td>\n",
       "      <td>2018-01-01 09:36:00</td>\n",
       "      <td>0</td>\n",
       "    </tr>\n",
       "  </tbody>\n",
       "</table>\n",
       "</div>"
      ],
      "text/plain": [
       "   atten_id  pat_id    arrival_datetime  time_in_department  \\\n",
       "0      1000    3814 2018-01-01 08:15:00                  59   \n",
       "1      1001    1847 2018-01-01 13:08:00                 256   \n",
       "2      1002    7573 2018-01-01 22:43:00                 324   \n",
       "3      1003    8807 2018-01-01 18:11:00                 326   \n",
       "4      1004   13380 2018-01-01 08:07:00                  89   \n",
       "\n",
       "   ambulance_arrival  departure_datetime  gender  \n",
       "0                  0 2018-01-01 09:14:00       0  \n",
       "1                  0 2018-01-01 17:24:00       1  \n",
       "2                  1 2018-01-02 04:07:00       1  \n",
       "3                  1 2018-01-01 23:37:00       1  \n",
       "4                  1 2018-01-01 09:36:00       0  "
      ]
     },
     "execution_count": 4,
     "metadata": {},
     "output_type": "execute_result"
    }
   ],
   "source": [
    "df.head()"
   ]
  },
  {
   "cell_type": "markdown",
   "metadata": {},
   "source": [
    "Feature tools requires loading dataframes as Entity Sets."
   ]
  },
  {
   "cell_type": "code",
   "execution_count": null,
   "metadata": {},
   "outputs": [],
   "source": []
  },
  {
   "cell_type": "code",
   "execution_count": 5,
   "metadata": {},
   "outputs": [],
   "source": [
    "es = ft.EntitySet('Hospital')\n",
    "\n",
    "es = es.entity_from_dataframe(entity_id='attendances',\n",
    "                               dataframe=df,\n",
    "                               index='atten_id',\n",
    "                               time_index='arrival_datetime')"
   ]
  },
  {
   "cell_type": "markdown",
   "metadata": {},
   "source": [
    "its possible  to view entities their shapes & relations in current entity set:  "
   ]
  },
  {
   "cell_type": "code",
   "execution_count": 6,
   "metadata": {},
   "outputs": [
    {
     "data": {
      "text/plain": [
       "Entityset: Hospital\n",
       "  Entities:\n",
       "    attendances [Rows: 15, Columns: 7]\n",
       "  Relationships:\n",
       "    No relationships"
      ]
     },
     "execution_count": 6,
     "metadata": {},
     "output_type": "execute_result"
    }
   ],
   "source": [
    "es"
   ]
  },
  {
   "cell_type": "code",
   "execution_count": 7,
   "metadata": {},
   "outputs": [
    {
     "data": {
      "text/plain": [
       "Entity: attendances\n",
       "  Variables:\n",
       "    atten_id (dtype: index)\n",
       "    pat_id (dtype: numeric)\n",
       "    arrival_datetime (dtype: datetime_time_index)\n",
       "    time_in_department (dtype: numeric)\n",
       "    ambulance_arrival (dtype: numeric)\n",
       "    departure_datetime (dtype: datetime)\n",
       "    gender (dtype: numeric)\n",
       "  Shape:\n",
       "    (Rows: 15, Columns: 7)"
      ]
     },
     "execution_count": 7,
     "metadata": {},
     "output_type": "execute_result"
    }
   ],
   "source": [
    "es['attendances']"
   ]
  },
  {
   "cell_type": "markdown",
   "metadata": {},
   "source": [
    "We can create new entities from current ones by 'normalising', for e.g. a patient level data set:"
   ]
  },
  {
   "cell_type": "code",
   "execution_count": 8,
   "metadata": {},
   "outputs": [
    {
     "data": {
      "text/plain": [
       "Entityset: Hospital\n",
       "  Entities:\n",
       "    attendances [Rows: 15, Columns: 7]\n",
       "    patients [Rows: 15, Columns: 1]\n",
       "  Relationships:\n",
       "    attendances.pat_id -> patients.pat_id"
      ]
     },
     "execution_count": 8,
     "metadata": {},
     "output_type": "execute_result"
    }
   ],
   "source": [
    "es.normalize_entity(base_entity_id='attendances',\n",
    "                   new_entity_id='patients',\n",
    "                   index='pat_id',\n",
    "                   make_time_index=False)"
   ]
  },
  {
   "cell_type": "markdown",
   "metadata": {},
   "source": [
    "we can see that ft has added a second entity to the entitiy set, and has also added the relationship between the two tables.\n",
    "\n",
    "Any relationship listed will always be a One -> Many."
   ]
  },
  {
   "cell_type": "code",
   "execution_count": 9,
   "metadata": {},
   "outputs": [
    {
     "data": {
      "text/plain": [
       "Entityset: Hospital\n",
       "  Entities:\n",
       "    attendances [Rows: 15, Columns: 7]\n",
       "    patients [Rows: 15, Columns: 1]\n",
       "  Relationships:\n",
       "    attendances.pat_id -> patients.pat_id"
      ]
     },
     "execution_count": 9,
     "metadata": {},
     "output_type": "execute_result"
    }
   ],
   "source": [
    "es"
   ]
  },
  {
   "cell_type": "code",
   "execution_count": null,
   "metadata": {},
   "outputs": [],
   "source": []
  },
  {
   "cell_type": "markdown",
   "metadata": {},
   "source": [
    "#### Creating features! "
   ]
  },
  {
   "cell_type": "markdown",
   "metadata": {},
   "source": [
    "ft allows you to create features very quickly once you have you data loaded in using DEEP FEATURE SYNTHESIS (DFS).\n",
    "\n",
    "For e.g. creating features for each unique \"attendance\":"
   ]
  },
  {
   "cell_type": "code",
   "execution_count": 10,
   "metadata": {},
   "outputs": [
    {
     "data": {
      "text/html": [
       "<div>\n",
       "<style scoped>\n",
       "    .dataframe tbody tr th:only-of-type {\n",
       "        vertical-align: middle;\n",
       "    }\n",
       "\n",
       "    .dataframe tbody tr th {\n",
       "        vertical-align: top;\n",
       "    }\n",
       "\n",
       "    .dataframe thead th {\n",
       "        text-align: right;\n",
       "    }\n",
       "</style>\n",
       "<table border=\"1\" class=\"dataframe\">\n",
       "  <thead>\n",
       "    <tr style=\"text-align: right;\">\n",
       "      <th></th>\n",
       "      <th>pat_id</th>\n",
       "      <th>time_in_department</th>\n",
       "      <th>ambulance_arrival</th>\n",
       "      <th>gender</th>\n",
       "      <th>DAY(arrival_datetime)</th>\n",
       "      <th>DAY(departure_datetime)</th>\n",
       "      <th>YEAR(arrival_datetime)</th>\n",
       "      <th>YEAR(departure_datetime)</th>\n",
       "      <th>MONTH(arrival_datetime)</th>\n",
       "      <th>MONTH(departure_datetime)</th>\n",
       "      <th>...</th>\n",
       "      <th>patients.SKEW(attendances.time_in_department)</th>\n",
       "      <th>patients.SKEW(attendances.ambulance_arrival)</th>\n",
       "      <th>patients.SKEW(attendances.gender)</th>\n",
       "      <th>patients.MIN(attendances.time_in_department)</th>\n",
       "      <th>patients.MIN(attendances.ambulance_arrival)</th>\n",
       "      <th>patients.MIN(attendances.gender)</th>\n",
       "      <th>patients.MEAN(attendances.time_in_department)</th>\n",
       "      <th>patients.MEAN(attendances.ambulance_arrival)</th>\n",
       "      <th>patients.MEAN(attendances.gender)</th>\n",
       "      <th>patients.COUNT(attendances)</th>\n",
       "    </tr>\n",
       "    <tr>\n",
       "      <th>atten_id</th>\n",
       "      <th></th>\n",
       "      <th></th>\n",
       "      <th></th>\n",
       "      <th></th>\n",
       "      <th></th>\n",
       "      <th></th>\n",
       "      <th></th>\n",
       "      <th></th>\n",
       "      <th></th>\n",
       "      <th></th>\n",
       "      <th></th>\n",
       "      <th></th>\n",
       "      <th></th>\n",
       "      <th></th>\n",
       "      <th></th>\n",
       "      <th></th>\n",
       "      <th></th>\n",
       "      <th></th>\n",
       "      <th></th>\n",
       "      <th></th>\n",
       "      <th></th>\n",
       "    </tr>\n",
       "  </thead>\n",
       "  <tbody>\n",
       "    <tr>\n",
       "      <th>1014</th>\n",
       "      <td>4681</td>\n",
       "      <td>51</td>\n",
       "      <td>1</td>\n",
       "      <td>1</td>\n",
       "      <td>2</td>\n",
       "      <td>2</td>\n",
       "      <td>2018</td>\n",
       "      <td>2018</td>\n",
       "      <td>1</td>\n",
       "      <td>1</td>\n",
       "      <td>...</td>\n",
       "      <td>NaN</td>\n",
       "      <td>NaN</td>\n",
       "      <td>NaN</td>\n",
       "      <td>51</td>\n",
       "      <td>1</td>\n",
       "      <td>1</td>\n",
       "      <td>51</td>\n",
       "      <td>1</td>\n",
       "      <td>1</td>\n",
       "      <td>1</td>\n",
       "    </tr>\n",
       "    <tr>\n",
       "      <th>1013</th>\n",
       "      <td>13379</td>\n",
       "      <td>239</td>\n",
       "      <td>1</td>\n",
       "      <td>1</td>\n",
       "      <td>2</td>\n",
       "      <td>2</td>\n",
       "      <td>2018</td>\n",
       "      <td>2018</td>\n",
       "      <td>1</td>\n",
       "      <td>1</td>\n",
       "      <td>...</td>\n",
       "      <td>NaN</td>\n",
       "      <td>NaN</td>\n",
       "      <td>NaN</td>\n",
       "      <td>239</td>\n",
       "      <td>1</td>\n",
       "      <td>1</td>\n",
       "      <td>239</td>\n",
       "      <td>1</td>\n",
       "      <td>1</td>\n",
       "      <td>1</td>\n",
       "    </tr>\n",
       "    <tr>\n",
       "      <th>1000</th>\n",
       "      <td>3814</td>\n",
       "      <td>59</td>\n",
       "      <td>0</td>\n",
       "      <td>0</td>\n",
       "      <td>1</td>\n",
       "      <td>1</td>\n",
       "      <td>2018</td>\n",
       "      <td>2018</td>\n",
       "      <td>1</td>\n",
       "      <td>1</td>\n",
       "      <td>...</td>\n",
       "      <td>NaN</td>\n",
       "      <td>NaN</td>\n",
       "      <td>NaN</td>\n",
       "      <td>59</td>\n",
       "      <td>0</td>\n",
       "      <td>0</td>\n",
       "      <td>59</td>\n",
       "      <td>0</td>\n",
       "      <td>0</td>\n",
       "      <td>1</td>\n",
       "    </tr>\n",
       "  </tbody>\n",
       "</table>\n",
       "<p>3 rows × 31 columns</p>\n",
       "</div>"
      ],
      "text/plain": [
       "          pat_id  time_in_department  ambulance_arrival  gender  \\\n",
       "atten_id                                                          \n",
       "1014        4681                  51                  1       1   \n",
       "1013       13379                 239                  1       1   \n",
       "1000        3814                  59                  0       0   \n",
       "\n",
       "          DAY(arrival_datetime)  DAY(departure_datetime)  \\\n",
       "atten_id                                                   \n",
       "1014                          2                        2   \n",
       "1013                          2                        2   \n",
       "1000                          1                        1   \n",
       "\n",
       "          YEAR(arrival_datetime)  YEAR(departure_datetime)  \\\n",
       "atten_id                                                     \n",
       "1014                        2018                      2018   \n",
       "1013                        2018                      2018   \n",
       "1000                        2018                      2018   \n",
       "\n",
       "          MONTH(arrival_datetime)  MONTH(departure_datetime)  \\\n",
       "atten_id                                                       \n",
       "1014                            1                          1   \n",
       "1013                            1                          1   \n",
       "1000                            1                          1   \n",
       "\n",
       "                     ...               \\\n",
       "atten_id             ...                \n",
       "1014                 ...                \n",
       "1013                 ...                \n",
       "1000                 ...                \n",
       "\n",
       "          patients.SKEW(attendances.time_in_department)  \\\n",
       "atten_id                                                  \n",
       "1014                                                NaN   \n",
       "1013                                                NaN   \n",
       "1000                                                NaN   \n",
       "\n",
       "          patients.SKEW(attendances.ambulance_arrival)  \\\n",
       "atten_id                                                 \n",
       "1014                                               NaN   \n",
       "1013                                               NaN   \n",
       "1000                                               NaN   \n",
       "\n",
       "          patients.SKEW(attendances.gender)  \\\n",
       "atten_id                                      \n",
       "1014                                    NaN   \n",
       "1013                                    NaN   \n",
       "1000                                    NaN   \n",
       "\n",
       "          patients.MIN(attendances.time_in_department)  \\\n",
       "atten_id                                                 \n",
       "1014                                                51   \n",
       "1013                                               239   \n",
       "1000                                                59   \n",
       "\n",
       "          patients.MIN(attendances.ambulance_arrival)  \\\n",
       "atten_id                                                \n",
       "1014                                                1   \n",
       "1013                                                1   \n",
       "1000                                                0   \n",
       "\n",
       "          patients.MIN(attendances.gender)  \\\n",
       "atten_id                                     \n",
       "1014                                     1   \n",
       "1013                                     1   \n",
       "1000                                     0   \n",
       "\n",
       "          patients.MEAN(attendances.time_in_department)  \\\n",
       "atten_id                                                  \n",
       "1014                                                 51   \n",
       "1013                                                239   \n",
       "1000                                                 59   \n",
       "\n",
       "          patients.MEAN(attendances.ambulance_arrival)  \\\n",
       "atten_id                                                 \n",
       "1014                                                 1   \n",
       "1013                                                 1   \n",
       "1000                                                 0   \n",
       "\n",
       "          patients.MEAN(attendances.gender)  patients.COUNT(attendances)  \n",
       "atten_id                                                                  \n",
       "1014                                      1                            1  \n",
       "1013                                      1                            1  \n",
       "1000                                      0                            1  \n",
       "\n",
       "[3 rows x 31 columns]"
      ]
     },
     "execution_count": 10,
     "metadata": {},
     "output_type": "execute_result"
    }
   ],
   "source": [
    "fm, features = ft.dfs(entityset=es,\n",
    "                     target_entity='attendances')\n",
    "\n",
    "fm.sample(3)"
   ]
  },
  {
   "cell_type": "code",
   "execution_count": 11,
   "metadata": {},
   "outputs": [
    {
     "data": {
      "text/plain": [
       "[<Feature: pat_id>,\n",
       " <Feature: time_in_department>,\n",
       " <Feature: ambulance_arrival>,\n",
       " <Feature: gender>,\n",
       " <Feature: DAY(arrival_datetime)>,\n",
       " <Feature: DAY(departure_datetime)>,\n",
       " <Feature: YEAR(arrival_datetime)>,\n",
       " <Feature: YEAR(departure_datetime)>,\n",
       " <Feature: MONTH(arrival_datetime)>,\n",
       " <Feature: MONTH(departure_datetime)>,\n",
       " <Feature: WEEKDAY(arrival_datetime)>,\n",
       " <Feature: WEEKDAY(departure_datetime)>,\n",
       " <Feature: patients.SUM(attendances.time_in_department)>,\n",
       " <Feature: patients.SUM(attendances.ambulance_arrival)>,\n",
       " <Feature: patients.SUM(attendances.gender)>,\n",
       " <Feature: patients.STD(attendances.time_in_department)>,\n",
       " <Feature: patients.STD(attendances.ambulance_arrival)>,\n",
       " <Feature: patients.STD(attendances.gender)>,\n",
       " <Feature: patients.MAX(attendances.time_in_department)>,\n",
       " <Feature: patients.MAX(attendances.ambulance_arrival)>,\n",
       " <Feature: patients.MAX(attendances.gender)>,\n",
       " <Feature: patients.SKEW(attendances.time_in_department)>,\n",
       " <Feature: patients.SKEW(attendances.ambulance_arrival)>,\n",
       " <Feature: patients.SKEW(attendances.gender)>,\n",
       " <Feature: patients.MIN(attendances.time_in_department)>,\n",
       " <Feature: patients.MIN(attendances.ambulance_arrival)>,\n",
       " <Feature: patients.MIN(attendances.gender)>,\n",
       " <Feature: patients.MEAN(attendances.time_in_department)>,\n",
       " <Feature: patients.MEAN(attendances.ambulance_arrival)>,\n",
       " <Feature: patients.MEAN(attendances.gender)>,\n",
       " <Feature: patients.COUNT(attendances)>]"
      ]
     },
     "execution_count": 11,
     "metadata": {},
     "output_type": "execute_result"
    }
   ],
   "source": [
    "features"
   ]
  },
  {
   "cell_type": "code",
   "execution_count": null,
   "metadata": {},
   "outputs": [],
   "source": []
  },
  {
   "cell_type": "markdown",
   "metadata": {},
   "source": [
    "Feature tools uses \"PRIMATIVES\" to define new features. It is posssible to specific which primatives to use during the call of DFS.\n",
    "\n",
    "- transformation primatives - define what functions to be applied within tables\n",
    "- aggreagation primatives - define which functions to be applied when grouping a table (and moving up a level)\n",
    "-  max_depth - parameter can be used to control how many levels can be aggregated to each other."
   ]
  },
  {
   "cell_type": "code",
   "execution_count": 12,
   "metadata": {},
   "outputs": [
    {
     "data": {
      "text/html": [
       "<div>\n",
       "<style scoped>\n",
       "    .dataframe tbody tr th:only-of-type {\n",
       "        vertical-align: middle;\n",
       "    }\n",
       "\n",
       "    .dataframe tbody tr th {\n",
       "        vertical-align: top;\n",
       "    }\n",
       "\n",
       "    .dataframe thead th {\n",
       "        text-align: right;\n",
       "    }\n",
       "</style>\n",
       "<table border=\"1\" class=\"dataframe\">\n",
       "  <thead>\n",
       "    <tr style=\"text-align: right;\">\n",
       "      <th></th>\n",
       "      <th>pat_id</th>\n",
       "      <th>time_in_department</th>\n",
       "      <th>ambulance_arrival</th>\n",
       "      <th>gender</th>\n",
       "      <th>DAY(arrival_datetime)</th>\n",
       "      <th>DAY(departure_datetime)</th>\n",
       "      <th>patients.MEAN(attendances.time_in_department)</th>\n",
       "      <th>patients.MEAN(attendances.ambulance_arrival)</th>\n",
       "      <th>patients.MEAN(attendances.gender)</th>\n",
       "      <th>patients.COUNT(attendances)</th>\n",
       "    </tr>\n",
       "    <tr>\n",
       "      <th>atten_id</th>\n",
       "      <th></th>\n",
       "      <th></th>\n",
       "      <th></th>\n",
       "      <th></th>\n",
       "      <th></th>\n",
       "      <th></th>\n",
       "      <th></th>\n",
       "      <th></th>\n",
       "      <th></th>\n",
       "      <th></th>\n",
       "    </tr>\n",
       "  </thead>\n",
       "  <tbody>\n",
       "    <tr>\n",
       "      <th>1011</th>\n",
       "      <td>11909</td>\n",
       "      <td>81</td>\n",
       "      <td>0</td>\n",
       "      <td>1</td>\n",
       "      <td>2</td>\n",
       "      <td>2</td>\n",
       "      <td>81</td>\n",
       "      <td>0</td>\n",
       "      <td>1</td>\n",
       "      <td>1</td>\n",
       "    </tr>\n",
       "    <tr>\n",
       "      <th>1000</th>\n",
       "      <td>3814</td>\n",
       "      <td>59</td>\n",
       "      <td>0</td>\n",
       "      <td>0</td>\n",
       "      <td>1</td>\n",
       "      <td>1</td>\n",
       "      <td>59</td>\n",
       "      <td>0</td>\n",
       "      <td>0</td>\n",
       "      <td>1</td>\n",
       "    </tr>\n",
       "    <tr>\n",
       "      <th>1012</th>\n",
       "      <td>174</td>\n",
       "      <td>53</td>\n",
       "      <td>1</td>\n",
       "      <td>0</td>\n",
       "      <td>2</td>\n",
       "      <td>2</td>\n",
       "      <td>53</td>\n",
       "      <td>1</td>\n",
       "      <td>0</td>\n",
       "      <td>1</td>\n",
       "    </tr>\n",
       "  </tbody>\n",
       "</table>\n",
       "</div>"
      ],
      "text/plain": [
       "          pat_id  time_in_department  ambulance_arrival  gender  \\\n",
       "atten_id                                                          \n",
       "1011       11909                  81                  0       1   \n",
       "1000        3814                  59                  0       0   \n",
       "1012         174                  53                  1       0   \n",
       "\n",
       "          DAY(arrival_datetime)  DAY(departure_datetime)  \\\n",
       "atten_id                                                   \n",
       "1011                          2                        2   \n",
       "1000                          1                        1   \n",
       "1012                          2                        2   \n",
       "\n",
       "          patients.MEAN(attendances.time_in_department)  \\\n",
       "atten_id                                                  \n",
       "1011                                                 81   \n",
       "1000                                                 59   \n",
       "1012                                                 53   \n",
       "\n",
       "          patients.MEAN(attendances.ambulance_arrival)  \\\n",
       "atten_id                                                 \n",
       "1011                                                 0   \n",
       "1000                                                 0   \n",
       "1012                                                 1   \n",
       "\n",
       "          patients.MEAN(attendances.gender)  patients.COUNT(attendances)  \n",
       "atten_id                                                                  \n",
       "1011                                      1                            1  \n",
       "1000                                      0                            1  \n",
       "1012                                      0                            1  "
      ]
     },
     "execution_count": 12,
     "metadata": {},
     "output_type": "execute_result"
    }
   ],
   "source": [
    "fm, features = ft.dfs(entityset=es,\n",
    "                     target_entity='attendances',\n",
    "                     agg_primitives=['mean','count'],\n",
    "                     trans_primitives=['day'],\n",
    "                     max_depth = 2)\n",
    "\n",
    "fm.sample(3)"
   ]
  },
  {
   "cell_type": "code",
   "execution_count": 13,
   "metadata": {},
   "outputs": [
    {
     "data": {
      "text/plain": [
       "[<Feature: pat_id>,\n",
       " <Feature: time_in_department>,\n",
       " <Feature: ambulance_arrival>,\n",
       " <Feature: gender>,\n",
       " <Feature: DAY(arrival_datetime)>,\n",
       " <Feature: DAY(departure_datetime)>,\n",
       " <Feature: patients.MEAN(attendances.time_in_department)>,\n",
       " <Feature: patients.MEAN(attendances.ambulance_arrival)>,\n",
       " <Feature: patients.MEAN(attendances.gender)>,\n",
       " <Feature: patients.COUNT(attendances)>]"
      ]
     },
     "execution_count": 13,
     "metadata": {},
     "output_type": "execute_result"
    }
   ],
   "source": [
    "features"
   ]
  },
  {
   "cell_type": "markdown",
   "metadata": {},
   "source": [
    "There are built in PRIMATIVES to ft accessed below...but you can also write custom ones."
   ]
  },
  {
   "cell_type": "code",
   "execution_count": 14,
   "metadata": {},
   "outputs": [
    {
     "data": {
      "text/html": [
       "<div>\n",
       "<style scoped>\n",
       "    .dataframe tbody tr th:only-of-type {\n",
       "        vertical-align: middle;\n",
       "    }\n",
       "\n",
       "    .dataframe tbody tr th {\n",
       "        vertical-align: top;\n",
       "    }\n",
       "\n",
       "    .dataframe thead th {\n",
       "        text-align: right;\n",
       "    }\n",
       "</style>\n",
       "<table border=\"1\" class=\"dataframe\">\n",
       "  <thead>\n",
       "    <tr style=\"text-align: right;\">\n",
       "      <th></th>\n",
       "      <th>name</th>\n",
       "      <th>type</th>\n",
       "      <th>description</th>\n",
       "    </tr>\n",
       "  </thead>\n",
       "  <tbody>\n",
       "    <tr>\n",
       "      <th>36</th>\n",
       "      <td>time_since_previous</td>\n",
       "      <td>transform</td>\n",
       "      <td>Compute the time since the previous instance.</td>\n",
       "    </tr>\n",
       "    <tr>\n",
       "      <th>45</th>\n",
       "      <td>year</td>\n",
       "      <td>transform</td>\n",
       "      <td>Transform a Datetime feature into the year.</td>\n",
       "    </tr>\n",
       "    <tr>\n",
       "      <th>51</th>\n",
       "      <td>cum_min</td>\n",
       "      <td>transform</td>\n",
       "      <td>Calculates the min of previous values of an in...</td>\n",
       "    </tr>\n",
       "    <tr>\n",
       "      <th>37</th>\n",
       "      <td>cum_max</td>\n",
       "      <td>transform</td>\n",
       "      <td>Calculates the max of previous values of an in...</td>\n",
       "    </tr>\n",
       "    <tr>\n",
       "      <th>38</th>\n",
       "      <td>not</td>\n",
       "      <td>transform</td>\n",
       "      <td>For each value of the base feature, negates th...</td>\n",
       "    </tr>\n",
       "  </tbody>\n",
       "</table>\n",
       "</div>"
      ],
      "text/plain": [
       "                   name       type  \\\n",
       "36  time_since_previous  transform   \n",
       "45                 year  transform   \n",
       "51              cum_min  transform   \n",
       "37              cum_max  transform   \n",
       "38                  not  transform   \n",
       "\n",
       "                                          description  \n",
       "36      Compute the time since the previous instance.  \n",
       "45        Transform a Datetime feature into the year.  \n",
       "51  Calculates the min of previous values of an in...  \n",
       "37  Calculates the max of previous values of an in...  \n",
       "38  For each value of the base feature, negates th...  "
      ]
     },
     "execution_count": 14,
     "metadata": {},
     "output_type": "execute_result"
    }
   ],
   "source": [
    "ft.list_primitives().sample(5)"
   ]
  },
  {
   "cell_type": "markdown",
   "metadata": {},
   "source": [
    "## Further notes:"
   ]
  },
  {
   "cell_type": "markdown",
   "metadata": {},
   "source": [
    "Sometimes you may wish to enforce data types explicitly to prevent ftools making wrong assumptions. The datatype determines the possiblr PRIMATIVES which can be applied to it."
   ]
  },
  {
   "cell_type": "code",
   "execution_count": 15,
   "metadata": {},
   "outputs": [],
   "source": [
    "import featuretools.variable_types as vtypes\n",
    "data_variable_types = {'atten_id': vtypes.Id,\n",
    "                       'pat_id': vtypes.Id,\n",
    "                       'arrival_datetime': vtypes.Datetime,\n",
    "                      'time_in_department': vtypes.Numeric,\n",
    "                       'departure_datetime': vtypes.Datetime,\n",
    "                       'gender': vtypes.Boolean,\n",
    "                      'ambulance_arrival': vtypes.Boolean}"
   ]
  },
  {
   "cell_type": "code",
   "execution_count": 16,
   "metadata": {},
   "outputs": [],
   "source": [
    "es = ft.EntitySet('Hospital')\n",
    "es = es.entity_from_dataframe(entity_id='attendances',\n",
    "                               dataframe=df,\n",
    "                               index='atten_id',\n",
    "                             variable_types=data_variable_types)"
   ]
  },
  {
   "cell_type": "code",
   "execution_count": null,
   "metadata": {},
   "outputs": [],
   "source": []
  }
 ],
 "metadata": {
  "kernelspec": {
   "display_name": "Python [conda env:ml]",
   "language": "python",
   "name": "conda-env-ml-py"
  },
  "language_info": {
   "codemirror_mode": {
    "name": "ipython",
    "version": 3
   },
   "file_extension": ".py",
   "mimetype": "text/x-python",
   "name": "python",
   "nbconvert_exporter": "python",
   "pygments_lexer": "ipython3",
   "version": "3.6.3"
  }
 },
 "nbformat": 4,
 "nbformat_minor": 2
}
